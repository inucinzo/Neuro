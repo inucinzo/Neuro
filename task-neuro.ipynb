{
 "cells": [
  {
   "cell_type": "code",
   "execution_count": 3,
   "id": "c833b201",
   "metadata": {},
   "outputs": [
    {
     "name": "stdout",
     "output_type": "stream",
     "text": [
      "Network Output: [0.35123729]\n"
     ]
    }
   ],
   "source": [
    "import numpy as np\n",
    "\n",
    "# Define network parameters\n",
    "input_size = 2    # Number of input features\n",
    "hidden_size = 3    # Number of neurons in hidden layer\n",
    "output_size = 1    # Number of neurons in output layer\n",
    "\n",
    "# Initialize weights randomly in [-0.5, 0.5]\n",
    "W1 = np.random.uniform(low=-0.5, high=0.5, size=(input_size, hidden_size))\n",
    "W2 = np.random.uniform(low=-0.5, high=0.5, size=(hidden_size, output_size))\n",
    "\n",
    "# Initialize biases\n",
    "b1 = np.full(hidden_size, 0.5)  # Hidden layer bias\n",
    "b2 = np.full(output_size, 0.7)   # Output layer bias\n",
    "\n",
    "# Sample input (you can modify this to test different inputs)\n",
    "x = np.array([0.8, -0.3])  # Input features\n",
    "\n",
    "# Forward propagation\n",
    "# Hidden layer calculation\n",
    "hidden_input = np.dot(x, W1) + b1\n",
    "hidden_output = np.tanh(hidden_input)\n",
    "\n",
    "# Output layer calculation\n",
    "output_input = np.dot(hidden_output, W2) + b2\n",
    "output = np.tanh(output_input)\n",
    "\n",
    "# Print the network output\n",
    "print(\"Network Output:\", output)"
   ]
  },
  {
   "cell_type": "code",
   "execution_count": null,
   "id": "5d3327bb",
   "metadata": {},
   "outputs": [],
   "source": []
  },
  {
   "cell_type": "code",
   "execution_count": null,
   "id": "b491a450",
   "metadata": {},
   "outputs": [],
   "source": []
  }
 ],
 "metadata": {
  "kernelspec": {
   "display_name": "Python 3 (ipykernel)",
   "language": "python",
   "name": "python3"
  },
  "language_info": {
   "codemirror_mode": {
    "name": "ipython",
    "version": 3
   },
   "file_extension": ".py",
   "mimetype": "text/x-python",
   "name": "python",
   "nbconvert_exporter": "python",
   "pygments_lexer": "ipython3",
   "version": "3.10.14"
  }
 },
 "nbformat": 4,
 "nbformat_minor": 5
}
